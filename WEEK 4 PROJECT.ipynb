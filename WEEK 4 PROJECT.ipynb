{
 "cells": [
  {
   "cell_type": "markdown",
   "metadata": {},
   "source": [
    "# Importing essential libraries"
   ]
  },
  {
   "cell_type": "code",
   "execution_count": 1,
   "metadata": {},
   "outputs": [],
   "source": [
    "import pyspark\n",
    "from pyspark.sql.types import BooleanType\n",
    "from pyspark.sql.functions import udf\n",
    "from pyspark.sql import functions as F\n",
    "from pyspark.sql import SparkSession\n",
    "from pyspark.sql import Window\n",
    "from pyspark.sql import DataFrame\n",
    "from pyspark.sql.functions import col\n",
    "from pyspark.sql.functions import *"
   ]
  },
  {
   "cell_type": "code",
   "execution_count": 2,
   "metadata": {},
   "outputs": [],
   "source": [
    "spark = (\n",
    "    SparkSession.builder\n",
    "                .appName(\"Stackoverflow\")\n",
    "                .config(\"spark.jars\", \"postgresql-42.2.8.jar\") \n",
    "                .getOrCreate()\n",
    ")"
   ]
  },
  {
   "cell_type": "markdown",
   "metadata": {},
   "source": [
    "# Loading the StackOverflow questions, answers and users datasets with pyspark"
   ]
  },
  {
   "cell_type": "code",
   "execution_count": 3,
   "metadata": {},
   "outputs": [],
   "source": [
    "questions = spark.read.csv(\n",
    "            \"questions.csv\", \n",
    "            header=True, inferSchema=True)\n",
    "    \n",
    "answers = spark.read.csv(\n",
    "            \"answers.csv\", \n",
    "            header=True, inferSchema=True)\n",
    "\n",
    "users = spark.read.csv(\n",
    "            \"users.csv\", \n",
    "            header=True, inferSchema=True)"
   ]
  },
  {
   "cell_type": "markdown",
   "metadata": {},
   "source": [
    "---"
   ]
  },
  {
   "cell_type": "markdown",
   "metadata": {},
   "source": [
    "# checking columns of each table"
   ]
  },
  {
   "cell_type": "code",
   "execution_count": 4,
   "metadata": {},
   "outputs": [
    {
     "data": {
      "text/plain": [
       "['id',\n",
       " 'user_id',\n",
       " 'title',\n",
       " 'body',\n",
       " 'accepted_answer_id',\n",
       " 'score',\n",
       " 'view_count',\n",
       " 'comment_count',\n",
       " 'created_at']"
      ]
     },
     "execution_count": 4,
     "metadata": {},
     "output_type": "execute_result"
    }
   ],
   "source": [
    "questions.columns"
   ]
  },
  {
   "cell_type": "code",
   "execution_count": 5,
   "metadata": {},
   "outputs": [
    {
     "data": {
      "text/plain": [
       "['id',\n",
       " 'user_id',\n",
       " 'question_id',\n",
       " 'body',\n",
       " 'score',\n",
       " 'comment_count',\n",
       " 'created_at']"
      ]
     },
     "execution_count": 5,
     "metadata": {},
     "output_type": "execute_result"
    }
   ],
   "source": [
    "answers.columns"
   ]
  },
  {
   "cell_type": "code",
   "execution_count": 6,
   "metadata": {},
   "outputs": [
    {
     "data": {
      "text/plain": [
       "['id',\n",
       " 'display_name',\n",
       " 'reputation',\n",
       " 'website_url',\n",
       " 'location',\n",
       " 'about_me',\n",
       " 'views',\n",
       " 'up_votes',\n",
       " 'down_votes',\n",
       " 'image_url',\n",
       " 'created_at',\n",
       " 'updated_at']"
      ]
     },
     "execution_count": 6,
     "metadata": {},
     "output_type": "execute_result"
    }
   ],
   "source": [
    "users.columns"
   ]
  },
  {
   "cell_type": "markdown",
   "metadata": {},
   "source": [
    "---"
   ]
  },
  {
   "cell_type": "markdown",
   "metadata": {},
   "source": [
    "# Renaming columns"
   ]
  },
  {
   "cell_type": "code",
   "execution_count": 7,
   "metadata": {},
   "outputs": [],
   "source": [
    "questions = questions.withColumnRenamed('id', 'questions_id')\n",
    "answers = answers.withColumnRenamed('id', 'answers_id')\n",
    "users = users.withColumnRenamed('id', 'users_id')\n",
    "users = users.withColumnRenamed('created_at', 'users_created_at')\n",
    "questions = questions.withColumnRenamed('user_id', 'questions_user_id')\n",
    "answers = answers.withColumnRenamed('user_id', 'answers_user_id')\n",
    "answers = answers.withColumnRenamed('body', 'answers_body')\n",
    "answers = answers.withColumnRenamed('score', 'answers_score')\n",
    "answers = answers.withColumnRenamed('comment_count', 'answers_comment_count')\n",
    "answers = answers.withColumnRenamed('created_at', 'answers_created_at')"
   ]
  },
  {
   "cell_type": "markdown",
   "metadata": {},
   "source": [
    "# checking for some correct column rename changes"
   ]
  },
  {
   "cell_type": "code",
   "execution_count": 8,
   "metadata": {},
   "outputs": [
    {
     "name": "stdout",
     "output_type": "stream",
     "text": [
      "+--------------------+-----------------+----------+\n",
      "|        questions_id|questions_user_id|created_at|\n",
      "+--------------------+-----------------+----------+\n",
      "|            54233315|          1118630|      null|\n",
      "|<p>So in Python I...|             null|      null|\n",
      "|<pre><code>for ph...|             null|      null|\n",
      "|       </code></pre>|             null|      null|\n",
      "|  <p>to do that.</p>|             null|      null|\n",
      "|<p>But it gives m...|             null|      null|\n",
      "|<pre><code>Syntax...|             null|      null|\n",
      "|       </code></pre>|             null|      null|\n",
      "|<p>And I changed ...|             null|      null|\n",
      "|<pre><code>for ph...|             null|      null|\n",
      "+--------------------+-----------------+----------+\n",
      "only showing top 10 rows\n",
      "\n"
     ]
    }
   ],
   "source": [
    "questions.select(\"questions_id\", \"questions_user_id\", \"created_at\").show(10)"
   ]
  },
  {
   "cell_type": "code",
   "execution_count": 9,
   "metadata": {},
   "outputs": [
    {
     "name": "stdout",
     "output_type": "stream",
     "text": [
      "+--------------------+---------------+------------------+\n",
      "|          answers_id|answers_user_id|answers_created_at|\n",
      "+--------------------+---------------+------------------+\n",
      "|            53999517|        1771994|              null|\n",
      "|<p><div class=\"\"s...|           null|              null|\n",
      "|<div class=\"\"snip...|           null|              null|\n",
      "|<pre class=\"\"snip...|           null|              null|\n",
      "|  const quotes = ...|           null|              null|\n",
      "|  const num = (Ma...|           null|              null|\n",
      "|  return quotes[n...|           null|              null|\n",
      "|                   }|           null|              null|\n",
      "|document.querySel...|     () =&gt; {|              null|\n",
      "|  document.queryS...|           null|              null|\n",
      "+--------------------+---------------+------------------+\n",
      "only showing top 10 rows\n",
      "\n"
     ]
    }
   ],
   "source": [
    "answers.select(\"answers_id\", \"answers_user_id\", \"answers_created_at\").show(10)"
   ]
  },
  {
   "cell_type": "code",
   "execution_count": 10,
   "metadata": {},
   "outputs": [
    {
     "name": "stdout",
     "output_type": "stream",
     "text": [
      "+--------+--------------------+-----+\n",
      "|users_id|            location|views|\n",
      "+--------+--------------------+-----+\n",
      "| 8357266|Bangalore, Karnat...|    8|\n",
      "| 2602456|              Canada|    0|\n",
      "| 8360277|Pennsylvania, Uni...|    0|\n",
      "|10255746|                null|   18|\n",
      "| 6504306|New Delhi, Delhi,...|   10|\n",
      "| 8370096|                null|    3|\n",
      "| 8370890|          日本 Tōkyō|    5|\n",
      "| 4695700|                null|    2|\n",
      "|10260660|                null|    2|\n",
      "|10260743|Gharaunda, Haryan...| null|\n",
      "+--------+--------------------+-----+\n",
      "only showing top 10 rows\n",
      "\n"
     ]
    }
   ],
   "source": [
    "users.select(\"users_id\", \"location\", \"views\").show(10)"
   ]
  },
  {
   "cell_type": "markdown",
   "metadata": {},
   "source": [
    "# filtering the data "
   ]
  },
  {
   "cell_type": "code",
   "execution_count": 11,
   "metadata": {},
   "outputs": [],
   "source": [
    "users = users.filter(users.location.isNotNull())"
   ]
  },
  {
   "cell_type": "code",
   "execution_count": 12,
   "metadata": {},
   "outputs": [
    {
     "data": {
      "text/plain": [
       "133759"
      ]
     },
     "execution_count": 12,
     "metadata": {},
     "output_type": "execute_result"
    }
   ],
   "source": [
    "users.count()"
   ]
  },
  {
   "cell_type": "code",
   "execution_count": 13,
   "metadata": {},
   "outputs": [
    {
     "name": "stdout",
     "output_type": "stream",
     "text": [
      "StructType(List(StructField(users_id,StringType,true),StructField(display_name,StringType,true),StructField(reputation,StringType,true),StructField(website_url,StringType,true),StructField(location,StringType,true),StructField(about_me,StringType,true),StructField(views,StringType,true),StructField(up_votes,StringType,true),StructField(down_votes,StringType,true),StructField(image_url,StringType,true),StructField(users_created_at,StringType,true),StructField(updated_at,StringType,true)))\n"
     ]
    }
   ],
   "source": [
    "print(users.schema)"
   ]
  },
  {
   "cell_type": "markdown",
   "metadata": {},
   "source": [
    "# lowercasing the location column in users table"
   ]
  },
  {
   "cell_type": "code",
   "execution_count": 14,
   "metadata": {},
   "outputs": [],
   "source": [
    "users = users.withColumn('location', lower(col('location')))"
   ]
  },
  {
   "cell_type": "markdown",
   "metadata": {},
   "source": [
    "---"
   ]
  },
  {
   "cell_type": "markdown",
   "metadata": {},
   "source": [
    "---"
   ]
  },
  {
   "cell_type": "markdown",
   "metadata": {},
   "source": [
    "# TASKS"
   ]
  },
  {
   "cell_type": "code",
   "execution_count": 15,
   "metadata": {},
   "outputs": [
    {
     "data": {
      "text/plain": [
       "21824"
      ]
     },
     "execution_count": 15,
     "metadata": {},
     "output_type": "execute_result"
    }
   ],
   "source": [
    "users.filter(users.location.contains(\"india\")).count()"
   ]
  },
  {
   "cell_type": "markdown",
   "metadata": {},
   "source": [
    "# Choosing India as country of choice and removing unwanted locations"
   ]
  },
  {
   "cell_type": "code",
   "execution_count": 16,
   "metadata": {},
   "outputs": [
    {
     "name": "stdout",
     "output_type": "stream",
     "text": [
      "+--------+------------------+----------+--------------------+--------------------+--------------------+-----+--------+----------+--------------------+-------------------+-------------------+\n",
      "|users_id|      display_name|reputation|         website_url|            location|            about_me|views|up_votes|down_votes|           image_url|   users_created_at|         updated_at|\n",
      "+--------+------------------+----------+--------------------+--------------------+--------------------+-----+--------+----------+--------------------+-------------------+-------------------+\n",
      "| 8357266|            suryan|         7|https://twitter.c...|    bangalore, india|                null|    8|       0|         0|https://www.grava...|2017-07-24 10:55:23|2019-06-19 05:00:16|\n",
      "| 6504306|             A.Raw|         4|                null|    new delhi, india|                null|   10|       0|         0|https://i.stack.i...|2016-06-23 12:58:03|2019-10-12 06:59:32|\n",
      "|10260743|     Kartik Juneja|         3|                null|    gharaunda, india|<p>4th year Btech...| null|    null|      null|                null|               null|               null|\n",
      "| 4689205|            sd5869|         1|    http://sd5869.me|    new delhi, india|                null|    5|       0|         0|                null|2015-03-19 10:20:21|2019-09-18 14:36:03|\n",
      "|10262756|           Ali Mir|         5|    http://nowebsite|    jalandhar, india|<p>I am a profess...| null|    null|      null|                null|               null|               null|\n",
      "|10262983|     Nikunj Hapani|         1|                null|        surat, india|<p>Hello, I am PH...| null|    null|      null|                null|               null|               null|\n",
      "|10249338|Prashant Kalikotay|         3|                null|darjeeling, west ...|<p>Currently: Pur...| null|    null|      null|                null|               null|               null|\n",
      "|10254503|      Akshay Nikam|         6|                null|         pune, india|                null|    6|       0|         0|https://lh4.googl...|2018-08-21 11:23:31|2019-08-22 06:36:53|\n",
      "|10254796|            Harsh |         6|                null|       mumbai, india|                null|    4|       0|         0|https://lh4.googl...|2018-08-21 12:33:09|2019-08-21 10:48:38|\n",
      "| 8363933|    Jitendra Kumar|         1|                null|    bangalore, india|                null|    1|       0|         0|https://i.stack.i...|2017-07-25 13:15:23|2019-10-09 07:36:13|\n",
      "+--------+------------------+----------+--------------------+--------------------+--------------------+-----+--------+----------+--------------------+-------------------+-------------------+\n",
      "only showing top 10 rows\n",
      "\n"
     ]
    }
   ],
   "source": [
    "indiaData = users.filter(users.location.contains(\"india\"))\n",
    "indiaData = indiaData.withColumn(\"location\", regexp_replace('location', r\"[,]\\s*\\w*\\s*[,]\", ','))\n",
    "indiaData.show(10)"
   ]
  },
  {
   "cell_type": "markdown",
   "metadata": {},
   "source": [
    "---"
   ]
  },
  {
   "cell_type": "markdown",
   "metadata": {},
   "source": [
    "# Extract the country and city into new columns and creating a new dataframe of city and country from location"
   ]
  },
  {
   "cell_type": "code",
   "execution_count": 17,
   "metadata": {},
   "outputs": [
    {
     "name": "stdout",
     "output_type": "stream",
     "text": [
      "+--------+------------------+-----+----------+-------------------+--------------------+---------------+-------+\n",
      "|users_id|      display_name|views|reputation|         updated_at|            location|           city|country|\n",
      "+--------+------------------+-----+----------+-------------------+--------------------+---------------+-------+\n",
      "| 8357266|            suryan|    8|         7|2019-06-19 05:00:16| [bangalore,  india]|      bangalore|  india|\n",
      "| 6504306|             A.Raw|   10|         4|2019-10-12 06:59:32| [new delhi,  india]|      new delhi|  india|\n",
      "|10260743|     Kartik Juneja| null|         3|               null| [gharaunda,  india]|      gharaunda|  india|\n",
      "| 4689205|            sd5869|    5|         1|2019-09-18 14:36:03| [new delhi,  india]|      new delhi|  india|\n",
      "|10262756|           Ali Mir| null|         5|               null| [jalandhar,  india]|      jalandhar|  india|\n",
      "|10262983|     Nikunj Hapani| null|         1|               null|     [surat,  india]|          surat|  india|\n",
      "|10249338|Prashant Kalikotay| null|         3|               null|[darjeeling,  wes...|    west bengal|  india|\n",
      "|10254503|      Akshay Nikam|    6|         6|2019-08-22 06:36:53|      [pune,  india]|           pune|  india|\n",
      "|10254796|            Harsh |    4|         6|2019-08-21 10:48:38|    [mumbai,  india]|         mumbai|  india|\n",
      "| 8363933|    Jitendra Kumar|    1|         1|2019-10-09 07:36:13| [bangalore,  india]|      bangalore|  india|\n",
      "| 4686721|              Alex|   12|         3|2019-07-20 16:56:46|    [mumbai,  india]|         mumbai|  india|\n",
      "| 8366271|          saravana| null|         1|               null| [bangalore,  india]|      bangalore|  india|\n",
      "| 8359805|       Vedant Jain|    1|         1|2019-10-12 13:42:07|    [mumbai,  india]|         mumbai|  india|\n",
      "|10253034|  gayathri bindela|   13|         1|2019-08-09 09:13:32| [hyderabad,  india]|      hyderabad|  india|\n",
      "|10253151|     shirsh shukla|   10|         6|2019-10-02 11:11:05|[indore,  madhya ...| madhya pradesh|  india|\n",
      "|10260337|  Pratik K. Tiwari| null|         1|               null|             [india]|           null|  india|\n",
      "|10264665|      Amit Vekaria|    8|         1|2019-07-31 06:33:12| [bangalore,  india]|      bangalore|  india|\n",
      "| 8361923|       saket sinha|   11|         7|2019-10-03 14:13:54|[naya raipur,  in...|    naya raipur|  india|\n",
      "|10253265|          Sreehari|    7|         1|2019-06-04 11:22:31| [bangalore,  india]|      bangalore|  india|\n",
      "|10260098|     David Michael|    2|         1|2019-05-22 11:05:35|[chennai,  tamil ...|     tamil nadu|  india|\n",
      "+--------+------------------+-----+----------+-------------------+--------------------+---------------+-------+\n",
      "only showing top 20 rows\n",
      "\n"
     ]
    }
   ],
   "source": [
    "indiaDataLocation = indiaData.withColumn('location', split(indiaData.location, ',')) \\\n",
    "  .select('users_id', 'display_name', 'views', 'reputation', 'updated_at', 'location', element_at(col('location'),-2).alias('city')\n",
    "         , element_at(col('location'), -1).alias('country'))\n",
    "indiaDataLocation.show()"
   ]
  },
  {
   "cell_type": "markdown",
   "metadata": {},
   "source": [
    "# Joining the above with the questions and only pick questions with at least 20 view_counts."
   ]
  },
  {
   "cell_type": "code",
   "execution_count": 18,
   "metadata": {},
   "outputs": [],
   "source": [
    "indiaDataLocation.registerTempTable('indiaDataLocation')\n",
    "questions.registerTempTable('questions')\n",
    "\n",
    "indiaTJoinquestions = spark.sql(\"SELECT * FROM indiaDataLocation LEFT JOIN questions ON (indiaDataLocation.users_id = questions.questions_user_id) WHERE questions.view_count >= 20\")"
   ]
  },
  {
   "cell_type": "code",
   "execution_count": 19,
   "metadata": {},
   "outputs": [
    {
     "name": "stdout",
     "output_type": "stream",
     "text": [
      "+--------+------------+-----+----------+-------------------+-------------------+---------+-------+------------+-----------------+-----+----+------------------+-------+----------+-------------+----------+\n",
      "|users_id|display_name|views|reputation|         updated_at|           location|     city|country|questions_id|questions_user_id|title|body|accepted_answer_id|  score|view_count|comment_count|created_at|\n",
      "+--------+------------+-----+----------+-------------------+-------------------+---------+-------+------------+-----------------+-----+----+------------------+-------+----------+-------------+----------+\n",
      "| 3273751| user3273751|    5|        16|2019-07-09 07:35:59|[bangalore,  india]|bangalore|  india|           R|          3273751|46609|6452|              3447|1810631|     45933|         6382|      3447|\n",
      "+--------+------------+-----+----------+-------------------+-------------------+---------+-------+------------+-----------------+-----+----+------------------+-------+----------+-------------+----------+\n",
      "\n"
     ]
    }
   ],
   "source": [
    "indiaTJoinquestions.show(5)"
   ]
  },
  {
   "cell_type": "code",
   "execution_count": 20,
   "metadata": {},
   "outputs": [
    {
     "data": {
      "text/plain": [
       "1"
      ]
     },
     "execution_count": 20,
     "metadata": {},
     "output_type": "execute_result"
    }
   ],
   "source": [
    "indiaTJoinquestions.count()"
   ]
  },
  {
   "cell_type": "code",
   "execution_count": 21,
   "metadata": {},
   "outputs": [
    {
     "data": {
      "text/plain": [
       "21824"
      ]
     },
     "execution_count": 21,
     "metadata": {},
     "output_type": "execute_result"
    }
   ],
   "source": [
    "indiaDataLocation.count()"
   ]
  },
  {
   "cell_type": "code",
   "execution_count": 22,
   "metadata": {},
   "outputs": [
    {
     "data": {
      "text/plain": [
       "7150127"
      ]
     },
     "execution_count": 22,
     "metadata": {},
     "output_type": "execute_result"
    }
   ],
   "source": [
    "questions.count()"
   ]
  },
  {
   "cell_type": "markdown",
   "metadata": {},
   "source": [
    "# Join the answers table to the results of joint above"
   ]
  },
  {
   "cell_type": "code",
   "execution_count": 23,
   "metadata": {},
   "outputs": [],
   "source": [
    "results = indiaTJoinquestions.join(answers, indiaTJoinquestions.questions_id == answers.question_id, how='left')"
   ]
  },
  {
   "cell_type": "code",
   "execution_count": 24,
   "metadata": {},
   "outputs": [
    {
     "data": {
      "text/plain": [
       "['users_id',\n",
       " 'display_name',\n",
       " 'views',\n",
       " 'reputation',\n",
       " 'updated_at',\n",
       " 'location',\n",
       " 'city',\n",
       " 'country',\n",
       " 'questions_id',\n",
       " 'questions_user_id',\n",
       " 'title',\n",
       " 'body',\n",
       " 'accepted_answer_id',\n",
       " 'score',\n",
       " 'view_count',\n",
       " 'comment_count',\n",
       " 'created_at',\n",
       " 'answers_id',\n",
       " 'answers_user_id',\n",
       " 'question_id',\n",
       " 'answers_body',\n",
       " 'answers_score',\n",
       " 'answers_comment_count',\n",
       " 'answers_created_at']"
      ]
     },
     "execution_count": 24,
     "metadata": {},
     "output_type": "execute_result"
    }
   ],
   "source": [
    "results.columns"
   ]
  },
  {
   "cell_type": "code",
   "execution_count": 25,
   "metadata": {},
   "outputs": [
    {
     "data": {
      "text/plain": [
       "3"
      ]
     },
     "execution_count": 25,
     "metadata": {},
     "output_type": "execute_result"
    }
   ],
   "source": [
    "results.count()"
   ]
  },
  {
   "cell_type": "markdown",
   "metadata": {},
   "source": [
    "---"
   ]
  },
  {
   "cell_type": "markdown",
   "metadata": {},
   "source": [
    "# minimum updated_at time in the results table"
   ]
  },
  {
   "cell_type": "code",
   "execution_count": 26,
   "metadata": {},
   "outputs": [
    {
     "name": "stdout",
     "output_type": "stream",
     "text": [
      "+-------------------+\n",
      "|    min(updated_at)|\n",
      "+-------------------+\n",
      "|2019-07-09 07:35:59|\n",
      "+-------------------+\n",
      "\n"
     ]
    }
   ],
   "source": [
    "minimum_updated_at_time = results.select([min('updated_at')]).show()"
   ]
  },
  {
   "cell_type": "markdown",
   "metadata": {},
   "source": [
    "---"
   ]
  },
  {
   "cell_type": "code",
   "execution_count": 27,
   "metadata": {},
   "outputs": [
    {
     "name": "stdout",
     "output_type": "stream",
     "text": [
      "root\n",
      " |-- users_id: string (nullable = true)\n",
      " |-- display_name: string (nullable = true)\n",
      " |-- views: string (nullable = true)\n",
      " |-- reputation: string (nullable = true)\n",
      " |-- updated_at: string (nullable = true)\n",
      " |-- location: array (nullable = true)\n",
      " |    |-- element: string (containsNull = true)\n",
      " |-- city: string (nullable = true)\n",
      " |-- country: string (nullable = true)\n",
      " |-- questions_id: string (nullable = true)\n",
      " |-- questions_user_id: string (nullable = true)\n",
      " |-- title: string (nullable = true)\n",
      " |-- body: string (nullable = true)\n",
      " |-- accepted_answer_id: string (nullable = true)\n",
      " |-- score: string (nullable = true)\n",
      " |-- view_count: string (nullable = true)\n",
      " |-- comment_count: string (nullable = true)\n",
      " |-- created_at: string (nullable = true)\n",
      " |-- answers_id: string (nullable = true)\n",
      " |-- answers_user_id: string (nullable = true)\n",
      " |-- question_id: string (nullable = true)\n",
      " |-- answers_body: string (nullable = true)\n",
      " |-- answers_score: string (nullable = true)\n",
      " |-- answers_comment_count: string (nullable = true)\n",
      " |-- answers_created_at: string (nullable = true)\n",
      "\n"
     ]
    }
   ],
   "source": [
    "results.printSchema()"
   ]
  },
  {
   "cell_type": "markdown",
   "metadata": {},
   "source": [
    "---"
   ]
  },
  {
   "cell_type": "markdown",
   "metadata": {},
   "source": [
    "# Writing the results file to postgresql"
   ]
  },
  {
   "cell_type": "code",
   "execution_count": 33,
   "metadata": {},
   "outputs": [],
   "source": [
    "results.write.format(\"jdbc\").options(\n",
    "    url='jdbc:postgresql://localhost/postgres',\n",
    "    driver='org.postgresql.Driver',\n",
    "    user='postgres',\n",
    "    password='gOSPEL2215',\n",
    "    dbtable='stackoverflow_filtered.results'\n",
    ").save(mode='append')"
   ]
  },
  {
   "cell_type": "markdown",
   "metadata": {},
   "source": [
    "---"
   ]
  },
  {
   "cell_type": "markdown",
   "metadata": {},
   "source": [
    "# Difference between views and materialized views in postgressql\n",
    "\n",
    "# Views\n",
    "It is the result of a stored query\n",
    "It can be accessed as a virtual table\n",
    "It does not store data physically\n",
    "\n",
    "# Materialized views\n",
    "They are disc-stored views that can be refreshed\n",
    "Their underlying query is not executed every time an access is required\n",
    "Used when view query is slow, and you can’t tolerate the slowness"
   ]
  },
  {
   "cell_type": "code",
   "execution_count": null,
   "metadata": {},
   "outputs": [],
   "source": []
  }
 ],
 "metadata": {
  "kernelspec": {
   "display_name": "Python 3",
   "language": "python",
   "name": "python3"
  }
 },
 "nbformat": 4,
 "nbformat_minor": 2
}
